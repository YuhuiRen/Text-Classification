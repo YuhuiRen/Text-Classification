{
 "cells": [
  {
   "cell_type": "markdown",
   "metadata": {},
   "source": [
    "## <center>Assignment 4: Text Classification </center>\n",
    "\n",
    "You'll need two data files:\n",
    "- training data file: `hw4_train.csv`\n",
    "- test data file: `hw4_test.csv`\n",
    "\n",
    "The data file contains a text column and a label column to indicate the sentiment of the text (0: negative, 1: positive). A few samples from the dataset is shown below.\n",
    "\n",
    "`Note, for analysis part, you can submit a pdf file to document your analysis`"
   ]
  },
  {
   "cell_type": "code",
   "execution_count": 4,
   "metadata": {},
   "outputs": [
    {
     "data": {
      "text/html": [
       "<div>\n",
       "<style scoped>\n",
       "    .dataframe tbody tr th:only-of-type {\n",
       "        vertical-align: middle;\n",
       "    }\n",
       "\n",
       "    .dataframe tbody tr th {\n",
       "        vertical-align: top;\n",
       "    }\n",
       "\n",
       "    .dataframe thead th {\n",
       "        text-align: right;\n",
       "    }\n",
       "</style>\n",
       "<table border=\"1\" class=\"dataframe\">\n",
       "  <thead>\n",
       "    <tr style=\"text-align: right;\">\n",
       "      <th></th>\n",
       "      <th>text</th>\n",
       "      <th>label</th>\n",
       "    </tr>\n",
       "  </thead>\n",
       "  <tbody>\n",
       "    <tr>\n",
       "      <th>0</th>\n",
       "      <td>This product worked for 4-5 times and the rota...</td>\n",
       "      <td>0</td>\n",
       "    </tr>\n",
       "    <tr>\n",
       "      <th>1</th>\n",
       "      <td>I was a fan of Destiny's Child when the origin...</td>\n",
       "      <td>0</td>\n",
       "    </tr>\n",
       "    <tr>\n",
       "      <th>2</th>\n",
       "      <td>I bought this since the big MK I also use was ...</td>\n",
       "      <td>1</td>\n",
       "    </tr>\n",
       "    <tr>\n",
       "      <th>3</th>\n",
       "      <td>This product did not work in my case. It did N...</td>\n",
       "      <td>0</td>\n",
       "    </tr>\n",
       "    <tr>\n",
       "      <th>4</th>\n",
       "      <td>In this movie we see Malon Brando as an ageing...</td>\n",
       "      <td>1</td>\n",
       "    </tr>\n",
       "  </tbody>\n",
       "</table>\n",
       "</div>"
      ],
      "text/plain": [
       "                                                text  label\n",
       "0  This product worked for 4-5 times and the rota...      0\n",
       "1  I was a fan of Destiny's Child when the origin...      0\n",
       "2  I bought this since the big MK I also use was ...      1\n",
       "3  This product did not work in my case. It did N...      0\n",
       "4  In this movie we see Malon Brando as an ageing...      1"
      ]
     },
     "execution_count": 4,
     "metadata": {},
     "output_type": "execute_result"
    }
   ],
   "source": [
    "train = pd.read_csv(\"hw4_train.csv\")\n",
    "train.head()"
   ]
  },
  {
   "cell_type": "markdown",
   "metadata": {},
   "source": [
    "### Task 1: Naive Bayes Model\n",
    "\n",
    "- Define a function `nb_model(train_docs, train_y, test_docs, test_y, stop_words='english', binary=False, use_idf=True)`, where\n",
    "    - `train_docs`: is a list of documents for training\n",
    "    - `train_y`: is the ground-truth labels of training documents\n",
    "    - `test_docs`: is a list of documents for test \n",
    "    - `test_y`: is the ground-truth labels of test documents\n",
    "    - `stop_words`: indicate whether stop words should be removed from features. The default value is 'english', i.e. all English stop words are removed.\n",
    "    - `binary`: whether to use binary values (1: present and 0: not present) for term frequency (tf). The default value is False (do not use binary tf)\n",
    "    - `use_idf`: wheter idf (inverse document frequency) is used. If not used, only the tf (term frequency) is used as features. The default value is True, i.e. TF-IDF is used as features.\n",
    "\n",
    "- This function does the following:\n",
    "    - Fit a `TfidfVectorizer` using `train_docs` with options `stop_words, binary, use_idf` as specified in the function inputs. Extract features from `train_docs` using the fitted `TfidfVectorizer`.\n",
    "    - Train `MultinomialNB` model using the extracted features and `train_y`\n",
    "    - Tranform `test_docs` by the fitted `TfidfVectorizer` (hint: use function `transform` not `fit_transform`)\n",
    "    - Predict the labels for `test_docs` and print the classification report\n",
    "    - Print the AUC score for class 1 and plot the ROC curve\n",
    "    - Print the PRC score (or Average Precision) for class 1 and plot the PRC curve\n",
    "    - Return the fitted model and fitted `TfidfVectorizer`"
   ]
  },
  {
   "cell_type": "code",
   "execution_count": 3,
   "metadata": {},
   "outputs": [],
   "source": [
    "import pandas as pd\n",
    "import numpy as np\n",
    "from sklearn.feature_extraction.text import TfidfVectorizer\n",
    "from sklearn.naive_bayes import MultinomialNB\n",
    "from sklearn.metrics import classification_report\n",
    "from sklearn.metrics import roc_curve, auc, precision_recall_curve\n",
    "from matplotlib import pyplot as plt"
   ]
  },
  {
   "cell_type": "code",
   "execution_count": 5,
   "metadata": {},
   "outputs": [],
   "source": [
    "def nb_model(train_docs, train_y, test_docs, test_y,binary=False, stop_words='english', use_idf=True):\n",
    "\n",
    "    tfidf_vect = TfidfVectorizer(binary=binary, stop_words=stop_words, use_idf=use_idf)\n",
    "    dtm = tfidf_vect.fit_transform(train_docs)     # tfidf matrix for train_docs\n",
    "    # print(dtm.shape)\n",
    "\n",
    "    dtm_new = tfidf_vect.transform(test_docs)   # new tfidf matrix for test_docs\n",
    "    # print(dtm_new.shape)\n",
    "\n",
    "    clf = MultinomialNB().fit(dtm, train_y) #  model\n",
    "    predicted=clf.predict(dtm_new)\n",
    "\n",
    "    labels=sorted(train[\"label\"].unique())\n",
    "    # print(labels)\n",
    "    print('Classification Report:\\n',classification_report(test_y, predicted))    # classification_report\n",
    "\n",
    "    predict_proba=clf.predict_proba(dtm_new)\n",
    "    # print(predict_proba[:3])\n",
    "    # print(test_y[:3])\n",
    "    binary_y = np.where(test_y==1,1,0)   # ground truth\n",
    "    y_pred = predict_proba[:,1]     #  second label, label 1\n",
    "    fpr, tpr, thresholds = roc_curve(binary_y, y_pred, pos_label=1)\n",
    "    print(\"AUC: {:.2%}\".format(auc(fpr, tpr)))\n",
    "\n",
    "    plt.figure()\n",
    "    plt.plot(fpr, tpr, color='darkorange', lw=2)\n",
    "    plt.plot([0, 1], [0, 1], color='navy', lw=2, linestyle='--')\n",
    "    plt.xlabel('False Positive Rate')\n",
    "    plt.ylabel('True Positive Rate')\n",
    "    plt.title('AUC of Naive Bayes Model')\n",
    "    plt.show()\n",
    "\n",
    "    precision, recall, thresholds = precision_recall_curve(binary_y, y_pred, pos_label=1)\n",
    "    print(\"PRC: {:.2%}\".format(auc(recall, precision)))\n",
    "\n",
    "    plt.figure()\n",
    "    plt.plot(recall, precision, color='darkorange', lw=2)\n",
    "    plt.xlabel('Recall')\n",
    "    plt.ylabel('Precision')\n",
    "    plt.title('Precision_Recall_Curve of Naive Bayes Model')\n",
    "    plt.show()\n",
    "    \n",
    "    return clf, tfidf_vect"
   ]
  },
  {
   "cell_type": "code",
   "execution_count": 6,
   "metadata": {},
   "outputs": [],
   "source": [
    "train = pd.read_csv(\"hw4_train.csv\")\n",
    "test = pd.read_csv(\"hw4_test.csv\")"
   ]
  },
  {
   "cell_type": "code",
   "execution_count": 7,
   "metadata": {},
   "outputs": [
    {
     "name": "stdout",
     "output_type": "stream",
     "text": [
      "Classification Report:\n",
      "               precision    recall  f1-score   support\n",
      "\n",
      "           0       0.79      0.75      0.77       235\n",
      "           1       0.79      0.83      0.81       265\n",
      "\n",
      "    accuracy                           0.79       500\n",
      "   macro avg       0.79      0.79      0.79       500\n",
      "weighted avg       0.79      0.79      0.79       500\n",
      "\n",
      "AUC: 87.57%\n"
     ]
    },
    {
     "data": {
      "image/png": "[encoded data removed]",
      "text/plain": [
       "<Figure size 432x288 with 1 Axes>"
      ]
     },
     "metadata": {
      "needs_background": "light"
     },
     "output_type": "display_data"
    },
    {
     "name": "stdout",
     "output_type": "stream",
     "text": [
      "PRC: 88.74%\n"
     ]
    },
    {
     "data": {
      "image/png": "[encoded data removed]",
      "text/plain": [
       "<Figure size 432x288 with 1 Axes>"
      ]
     },
     "metadata": {
      "needs_background": "light"
     },
     "output_type": "display_data"
    }
   ],
   "source": [
    "model, tfidf_vect = nb_model(train[\"text\"], train[\"label\"], test[\"text\"], test[\"label\"])"
   ]
  },
  {
   "cell_type": "markdown",
   "metadata": {},
   "source": [
    "### Task 2: Search for best parameters\n",
    "\n",
    "- Define a function `search_para(docs, y)` where `docs` are training documents and `y` is the ground-truth labels.\n",
    "- This function does the following:\n",
    "    - Create a pipleline which integrates `TfidfVectorizer` and `MultinomialNB` \n",
    "    - Define the parameter ranges as follow:\n",
    "        - `use_idf: [True, False]`,\n",
    "        - `binary: [True, False]`,\n",
    "        - `stop_words': [None, 'english']`\n",
    "    - Use `GridSearchCV` with 5-fold cross validation to find the best parameter values based on the training dataset. \n",
    "    - Print the best parameter values\n",
    "- Call the function `nb_model` defined in Task 1 `with the best parameter values`. Please briefly answer the following:\n",
    "    - Compare with the model in Task 1, how is the performance improved?\n",
    "    - Why do you think the new configuration of `TfidfVectorizer` help sentiment classification?"
   ]
  },
  {
   "cell_type": "code",
   "execution_count": 8,
   "metadata": {},
   "outputs": [],
   "source": [
    "from sklearn.pipeline import Pipeline\n",
    "from sklearn.model_selection import GridSearchCV\n",
    "\n",
    "def search_para(docs, y):\n",
    "    \n",
    "    pipeline  = Pipeline([('tfidf', TfidfVectorizer()), ('clf', MultinomialNB())])\n",
    "    parameters = {'tfidf__use_idf':[True,False], 'tfidf__binary':[True, False], 'tfidf__stop_words':[None,'english']}\n",
    "    \n",
    "    metric =  \"f1_macro\"\n",
    "    gs_clf = GridSearchCV(pipeline, param_grid=parameters, scoring=metric, cv=5)\n",
    "    \n",
    "    gs_clf = gs_clf.fit(docs, y)\n",
    "    \n",
    "    for param_name in gs_clf.best_params_:\n",
    "        print(\"{0}:\\t{1}\".format(param_name,gs_clf.best_params_[param_name]))\n",
    "    print(\"best f1 score: {:.3f}\".format(gs_clf.best_score_))"
   ]
  },
  {
   "cell_type": "code",
   "execution_count": 9,
   "metadata": {},
   "outputs": [
    {
     "name": "stdout",
     "output_type": "stream",
     "text": [
      "tfidf__binary:\tTrue\n",
      "tfidf__stop_words:\tNone\n",
      "tfidf__use_idf:\tFalse\n",
      "best f1 score: 0.824\n"
     ]
    }
   ],
   "source": [
    "search_para(train[\"text\"], train[\"label\"])"
   ]
  },
  {
   "cell_type": "code",
   "execution_count": 10,
   "metadata": {},
   "outputs": [
    {
     "name": "stdout",
     "output_type": "stream",
     "text": [
      "Classification Report:\n",
      "               precision    recall  f1-score   support\n",
      "\n",
      "           0       0.79      0.81      0.80       235\n",
      "           1       0.83      0.82      0.82       265\n",
      "\n",
      "    accuracy                           0.81       500\n",
      "   macro avg       0.81      0.81      0.81       500\n",
      "weighted avg       0.81      0.81      0.81       500\n",
      "\n",
      "AUC: 89.10%\n"
     ]
    },
    {
     "data": {
      "image/png": "[encoded data removed]",
      "text/plain": [
       "<Figure size 432x288 with 1 Axes>"
      ]
     },
     "metadata": {
      "needs_background": "light"
     },
     "output_type": "display_data"
    },
    {
     "name": "stdout",
     "output_type": "stream",
     "text": [
      "PRC: 89.55%\n"
     ]
    },
    {
     "data": {
      "image/png": "[encoded data removed]",
      "text/plain": [
       "<Figure size 432x288 with 1 Axes>"
      ]
     },
     "metadata": {
      "needs_background": "light"
     },
     "output_type": "display_data"
    }
   ],
   "source": [
    "# Call the function with the best parameter values\n",
    "\n",
    "model, tfidf_vect = nb_model(train[\"text\"], train[\"label\"], test[\"text\"], test[\"label\"],\\\n",
    "        binary = True,stop_words = None, use_idf = False)"
   ]
  },
  {
   "cell_type": "markdown",
   "metadata": {},
   "source": [
    "### Task 3: Find the best K in K-fold cross validation\n",
    "\n",
    "- Define a function `k_fold(docs, y)` where `docs` are training documents and `y` is the ground-truth labels.\n",
    "- This function does the following:\n",
    "    - Fit `TfidfVectorizer` using `docs`. In this task, it is not necessary to tune the parameters of `TfidfVectorizer`. You can just use the default options. \n",
    "    - Loop through `k` from 2 to 20. For each `k` value:\n",
    "        - Fit a `linear SVM model` using `k-fold` cross validation\n",
    "        - Record the mean F1-Macro score over `k` folds\n",
    "    - Print a line chart with `k` as X axis and the mean F1-Macro score as Y axis\n",
    "- With this plot, analyze:\n",
    "    - How performance changes as `k` increases? \n",
    "    - Why the performance changes in this way?\n",
    "    - What can the appropriate `k` value if you perform `k-fold` cross validation on this dataset?"
   ]
  },
  {
   "cell_type": "code",
   "execution_count": 37,
   "metadata": {},
   "outputs": [],
   "source": [
    "from sklearn import svm\n",
    "from sklearn.model_selection import cross_validate\n",
    "\n",
    "def k_fold(docs, y):\n",
    "    \n",
    "    tfidf_vect = TfidfVectorizer()\n",
    "    dtm = tfidf_vect.fit_transform(docs) \n",
    "    clf = svm.LinearSVC()\n",
    "    \n",
    "    k_value, average_fscore = [],[]\n",
    "    for k in range(2,21):\n",
    "        metrics = ['precision_macro', 'recall_macro', \"f1_macro\"]\n",
    "        cv = cross_validate(clf, dtm, y, scoring=metrics, cv=k)\n",
    "        average_fscore.append(np.mean(cv['test_f1_macro']))\n",
    "        k_value.append(k)\n",
    "    \n",
    "    plt.plot(k_value, average_fscore, color='darkorange', lw=2)\n",
    "    plt.xlabel('K-Fold')\n",
    "    plt.ylabel('F1 Macro')\n",
    "    plt.title('F1 Marco vs. K-Fold')\n",
    "    plt.show()     "
   ]
  },
  {
   "cell_type": "code",
   "execution_count": 38,
   "metadata": {},
   "outputs": [
    {
     "data": {
      "image/png": "[encoded data removed]",
      "text/plain": [
       "<Figure size 432x288 with 1 Axes>"
      ]
     },
     "metadata": {
      "needs_background": "light"
     },
     "output_type": "display_data"
    }
   ],
   "source": [
    "# Call the function\n",
    "# Note, you may get different chart due to randomness involved in data partition\n",
    "\n",
    "k_fold(train[\"text\"], train[\"label\"])\n"
   ]
  },
  {
   "cell_type": "markdown",
   "metadata": {},
   "source": [
    "### Task 4 (Bonus): Interpret Naive Bayes Model\n",
    "\n",
    "- Suppose you have a new document:\n",
    "\n",
    "*\"Great American classic that you can get for free on kindle. I was supposed to read this back in high school but wasn't not interested at the time. But now with the benefit of age I can really appreciate it.\"*\n",
    "\n",
    "- Predict the label for this document using the fitted model and fitted `TfidfVectorizer` returned from Task 2\n",
    "- Very likely, this document is predicted to be positive. Could you analyze `why this document is predicted to be positive? What features are highly influential?` Please answer this question based on Naive Bayes algorithm (hint: consider the conditional probability $p(w|c=0), p(w|c=1)$. Also check sklearn package to see how to get this conditional probability)"
   ]
  },
  {
   "cell_type": "code",
   "execution_count": 39,
   "metadata": {},
   "outputs": [
    {
     "data": {
      "text/plain": [
       "\"Great American classic that you can get for free on kindle. I was supposed to read this back in high school but wasn't not interested at the time. But now with the benefit of age I can really appreciate it.\""
      ]
     },
     "execution_count": 39,
     "metadata": {},
     "output_type": "execute_result"
    }
   ],
   "source": [
    "doc=\"Great American classic that you can get for free on kindle. I was supposed to read this back in high school but wasn't not interested at the time. But now with the benefit of age I can really appreciate it.\"\n",
    "doc"
   ]
  },
  {
   "cell_type": "code",
   "execution_count": null,
   "metadata": {
    "collapsed": true
   },
   "outputs": [],
   "source": [
    "# Add your code and explanation\n",
    "\n",
    "def show_analysis(doc, model, tfidf_vect)\n",
    "\n",
    "    model, tfidf_vect = nb_model(train[\"text\"], train[\"label\"], test[\"text\"], test[\"label\"])\n",
    "    tfidf_vect_new = tfidf_vect.transform(docs)\n",
    "    prediction = model.predict(tf_idf_new)\n",
    "    \n",
    "    return prediction"
   ]
  },
  {
   "cell_type": "markdown",
   "metadata": {},
   "source": [
    "### Test: Put everything together"
   ]
  },
  {
   "cell_type": "code",
   "execution_count": null,
   "metadata": {},
   "outputs": [],
   "source": [
    "if __name__ == \"__main__\":  \n",
    "    \n",
    "    train = pd.read_csv(\"hw4_train.csv\")\n",
    "    test = pd.read_csv(\"hw4_test.csv\")\n",
    "\n",
    "    print(\"===== Test Q1 ======\")\n",
    "    \n",
    "    model, tfidf_vect = nb_model(train[\"text\"], train[\"label\"], \\\n",
    "         test[\"text\"], test[\"label\"])\n",
    "    \n",
    "    print(\"\\n\")\n",
    "    \n",
    "    print(\"===== Test Q2 ======\")\n",
    "    \n",
    "    search_para(train[\"text\"], train[\"label\"])\n",
    "    \n",
    "    model, tfidf_vect = nb_model(train[\"text\"], train[\"label\"], \\\n",
    "        test[\"text\"], test[\"label\"],\\\n",
    "        binary = True,stop_words = None, \\\n",
    "        use_idf = False)\n",
    "    \n",
    "    print(\"\\n\")\n",
    "    \n",
    "    print(\"===== Test Q3 ======\")\n",
    "    \n",
    "    k_fold(train[\"text\"], train[\"label\"])\n",
    "    \n",
    "    print(\"\\n\")\n",
    "    \n",
    "    print(\"===== Test Q4 ======\")\n",
    "    \n",
    "    show_analysis(doc, model, tfidf_vect)\n",
    "    \n",
    "    print(\"\\n\")"
   ]
  }
 ],
 "metadata": {
  "kernelspec": {
   "display_name": "Python 3",
   "language": "python",
   "name": "python3"
  },
  "language_info": {
   "codemirror_mode": {
    "name": "ipython",
    "version": 3
   },
   "file_extension": ".py",
   "mimetype": "text/x-python",
   "name": "python",
   "nbconvert_exporter": "python",
   "pygments_lexer": "ipython3",
   "version": "3.8.5"
  }
 },
 "nbformat": 4,
 "nbformat_minor": 2
}
